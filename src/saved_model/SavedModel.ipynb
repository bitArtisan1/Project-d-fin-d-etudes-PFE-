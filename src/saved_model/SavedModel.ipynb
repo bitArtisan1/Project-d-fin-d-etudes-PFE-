{
 "cells": [
  {
   "cell_type": "markdown",
   "metadata": {
    "collapsed": false
   },
   "source": [
    "<span style='font-size:xx-large'>**Code Exportation Polymorphic Graph & Serialization**</span>\n",
    "\n"
   ]
  },
  {
   "cell_type": "code",
   "execution_count": 2,
   "metadata": {
    "collapsed": false,
    "tags": [
    ]
   },
   "outputs": [
    {
     "name": "stderr",
     "output_type": "stream",
     "text": [
      "2024-05-09 18:29:38.191645: I tensorflow/core/platform/cpu_feature_guard.cc:182] This TensorFlow binary is optimized to use available CPU instructions in performance-critical operations.\n",
      "To enable the following instructions: AVX2 AVX512F AVX512_VNNI FMA, in other operations, rebuild TensorFlow with the appropriate compiler flags.\n",
      "2024-05-09 18:29:41.274839: W tensorflow/compiler/tf2tensorrt/utils/py_utils.cc:38] TF-TRT Warning: Could not find TensorRT\n"
     ]
    },
    {
     "ename": "OSError",
     "evalue": "No file or directory found at qPrunedCNNLSTM.keras",
     "output_type": "error",
     "traceback": [
      "\u001b[0;31m---------------------------------------------------------------------------\u001b[0m",
      "\u001b[0;31mOSError\u001b[0m                                   Traceback (most recent call last)",
      "\u001b[0;32m/tmp/ipykernel_1073/854500294.py\u001b[0m in \u001b[0;36m<cell line: 4>\u001b[0;34m()\u001b[0m\n\u001b[1;32m      2\u001b[0m \u001b[0;32mimport\u001b[0m \u001b[0mkeras\u001b[0m\u001b[0;34m\u001b[0m\u001b[0;34m\u001b[0m\u001b[0m\n\u001b[1;32m      3\u001b[0m \u001b[0;34m\u001b[0m\u001b[0m\n\u001b[0;32m----> 4\u001b[0;31m \u001b[0mmodel\u001b[0m \u001b[0;34m=\u001b[0m \u001b[0mkeras\u001b[0m\u001b[0;34m.\u001b[0m\u001b[0mmodels\u001b[0m\u001b[0;34m.\u001b[0m\u001b[0mload_model\u001b[0m\u001b[0;34m(\u001b[0m\u001b[0;34m\"qPrunedCNNLSTM.keras\"\u001b[0m\u001b[0;34m)\u001b[0m\u001b[0;34m\u001b[0m\u001b[0;34m\u001b[0m\u001b[0m\n\u001b[0m\u001b[1;32m      5\u001b[0m \u001b[0;34m\u001b[0m\u001b[0m\n\u001b[1;32m      6\u001b[0m \u001b[0;34m\u001b[0m\u001b[0m\n",
      "\u001b[0;32m/usr/local/lib/python3.10/dist-packages/keras/src/saving/saving_api.py\u001b[0m in \u001b[0;36mload_model\u001b[0;34m(filepath, custom_objects, compile, safe_mode, **kwargs)\u001b[0m\n\u001b[1;32m    260\u001b[0m \u001b[0;34m\u001b[0m\u001b[0m\n\u001b[1;32m    261\u001b[0m     \u001b[0;31m# Legacy case.\u001b[0m\u001b[0;34m\u001b[0m\u001b[0;34m\u001b[0m\u001b[0m\n\u001b[0;32m--> 262\u001b[0;31m     return legacy_sm_saving_lib.load_model(\n\u001b[0m\u001b[1;32m    263\u001b[0m         \u001b[0mfilepath\u001b[0m\u001b[0;34m,\u001b[0m \u001b[0mcustom_objects\u001b[0m\u001b[0;34m=\u001b[0m\u001b[0mcustom_objects\u001b[0m\u001b[0;34m,\u001b[0m \u001b[0mcompile\u001b[0m\u001b[0;34m=\u001b[0m\u001b[0mcompile\u001b[0m\u001b[0;34m,\u001b[0m \u001b[0;34m**\u001b[0m\u001b[0mkwargs\u001b[0m\u001b[0;34m\u001b[0m\u001b[0;34m\u001b[0m\u001b[0m\n\u001b[1;32m    264\u001b[0m     )\n",
      "\u001b[0;32m/usr/local/lib/python3.10/dist-packages/keras/src/utils/traceback_utils.py\u001b[0m in \u001b[0;36merror_handler\u001b[0;34m(*args, **kwargs)\u001b[0m\n\u001b[1;32m     68\u001b[0m             \u001b[0;31m# To get the full stack trace, call:\u001b[0m\u001b[0;34m\u001b[0m\u001b[0;34m\u001b[0m\u001b[0m\n\u001b[1;32m     69\u001b[0m             \u001b[0;31m# `tf.debugging.disable_traceback_filtering()`\u001b[0m\u001b[0;34m\u001b[0m\u001b[0;34m\u001b[0m\u001b[0m\n\u001b[0;32m---> 70\u001b[0;31m             \u001b[0;32mraise\u001b[0m \u001b[0me\u001b[0m\u001b[0;34m.\u001b[0m\u001b[0mwith_traceback\u001b[0m\u001b[0;34m(\u001b[0m\u001b[0mfiltered_tb\u001b[0m\u001b[0;34m)\u001b[0m \u001b[0;32mfrom\u001b[0m \u001b[0;32mNone\u001b[0m\u001b[0;34m\u001b[0m\u001b[0;34m\u001b[0m\u001b[0m\n\u001b[0m\u001b[1;32m     71\u001b[0m         \u001b[0;32mfinally\u001b[0m\u001b[0;34m:\u001b[0m\u001b[0;34m\u001b[0m\u001b[0;34m\u001b[0m\u001b[0m\n\u001b[1;32m     72\u001b[0m             \u001b[0;32mdel\u001b[0m \u001b[0mfiltered_tb\u001b[0m\u001b[0;34m\u001b[0m\u001b[0;34m\u001b[0m\u001b[0m\n",
      "\u001b[0;32m/usr/local/lib/python3.10/dist-packages/keras/src/saving/legacy/save.py\u001b[0m in \u001b[0;36mload_model\u001b[0;34m(filepath, custom_objects, compile, options)\u001b[0m\n\u001b[1;32m    232\u001b[0m                     \u001b[0;32mif\u001b[0m \u001b[0misinstance\u001b[0m\u001b[0;34m(\u001b[0m\u001b[0mfilepath_str\u001b[0m\u001b[0;34m,\u001b[0m \u001b[0mstr\u001b[0m\u001b[0;34m)\u001b[0m\u001b[0;34m:\u001b[0m\u001b[0;34m\u001b[0m\u001b[0;34m\u001b[0m\u001b[0m\n\u001b[1;32m    233\u001b[0m                         \u001b[0;32mif\u001b[0m \u001b[0;32mnot\u001b[0m \u001b[0mtf\u001b[0m\u001b[0;34m.\u001b[0m\u001b[0mio\u001b[0m\u001b[0;34m.\u001b[0m\u001b[0mgfile\u001b[0m\u001b[0;34m.\u001b[0m\u001b[0mexists\u001b[0m\u001b[0;34m(\u001b[0m\u001b[0mfilepath_str\u001b[0m\u001b[0;34m)\u001b[0m\u001b[0;34m:\u001b[0m\u001b[0;34m\u001b[0m\u001b[0;34m\u001b[0m\u001b[0m\n\u001b[0;32m--> 234\u001b[0;31m                             raise IOError(\n\u001b[0m\u001b[1;32m    235\u001b[0m                                 \u001b[0;34mf\"No file or directory found at {filepath_str}\"\u001b[0m\u001b[0;34m\u001b[0m\u001b[0;34m\u001b[0m\u001b[0m\n\u001b[1;32m    236\u001b[0m                             )\n",
      "\u001b[0;31mOSError\u001b[0m: No file or directory found at qPrunedCNNLSTM.keras"
     ]
    }
   ],
   "source": [
    "import tensorflow as tf\n",
    "\n",
    "model = tf.saved_model.load(\"saved_model\")\n",
    "\n",
    "def preprocess_audio(audio_input, sample_rate=16000, segment_duration=1, frame_duration=0.025,\n",
    "                     hop_duration=0.010, num_bands=50):\n",
    "    segment_samples = int(segment_duration * sample_rate)\n",
    "    frame_samples = int(frame_duration * sample_rate)\n",
    "    hop_samples = int(hop_duration * sample_rate)\n",
    "\n",
    "    audio_data_padded = tf.pad(tf.squeeze(audio_input),\n",
    "                               [[0, tf.maximum(0, segment_samples - tf.shape(audio_input)[0])]])\n",
    "\n",
    "    audio_data_normalized = tf.math.l2_normalize(audio_data_padded)\n",
    "\n",
    "    stft = tf.signal.stft(audio_data_normalized, fft_length=512, frame_length=frame_samples, frame_step=hop_samples)\n",
    "    magnitude_spectrogram = tf.abs(stft)\n",
    "    mel_filterbank = tf.signal.linear_to_mel_weight_matrix(num_bands, tf.shape(magnitude_spectrogram)[-1],\n",
    "                                                           sample_rate)\n",
    "    mel_spectrogram = tf.matmul(magnitude_spectrogram, mel_filterbank)\n",
    "\n",
    "    log_mel_spectrogram = tf.math.log(mel_spectrogram + 1e-6)\n",
    "    log_mel_spectrogram = tf.expand_dims(log_mel_spectrogram, axis=-1)\n",
    "    log_mel_spectrogram = tf.expand_dims(log_mel_spectrogram, axis=0)\n",
    "\n",
    "    return log_mel_spectrogram\n",
    "\n",
    "\n",
    "class ExportModel(tf.Module):\n",
    "\n",
    "    def __init__(self, model):\n",
    "        super().__init__()\n",
    "        self.model = model\n",
    "\n",
    "        self.call_string_input = self.__call__.get_concrete_function(\n",
    "            input=tf.TensorSpec(shape=(), dtype=tf.string))\n",
    "        self.call_float_input = self.__call__.get_concrete_function(\n",
    "            input=tf.TensorSpec(shape=[None, 16000], dtype=tf.float32))\n",
    "\n",
    "    @tf.function\n",
    "    def __call__(self, input):\n",
    "        class_labels = [\"background\", \"down\", \"go\", \"left\", \"no\", \"off\", \"on\", \"right\", \"stop\", \"up\", \"yes\", \"unknown\"]\n",
    "        if input.dtype == tf.string:\n",
    "            input = tf.io.read_file(input)\n",
    "            input, _ = tf.audio.decode_wav(input, desired_channels=1, desired_samples=16000, )\n",
    "            input = tf.squeeze(input, axis=-1)\n",
    "\n",
    "        input = preprocess_audio(input)\n",
    "        infer = model.signatures[\"serving_default\"]\n",
    "        result = infer(input)['output_0']\n",
    "\n",
    "        class_ids = tf.argmax(result, axis=-1)\n",
    "        class_names = tf.gather(class_labels, class_ids)\n",
    "\n",
    "        return {'predictions': result,\n",
    "                'class_ids': class_ids,\n",
    "                'class_names': class_names}\n",
    "\n",
    "\n",
    "export = ExportModel(model)\n",
    "\n",
    "tf.saved_model.save(export, \"SavedModelCNN\", signatures={\n",
    "    'serving_default': export.call_string_input,\n",
    "    'serving_float': export.call_float_input})\n",
    "\n",
    "loaded = tf.saved_model.load(\"SavedModelCNN\")\n",
    "infer = loaded.signatures[\"serving_default\"]\n",
    "print(list(loaded.signatures.keys()))\n",
    "\n",
    "# Batch Waveform:\n",
    "x = '0c40e715_nohash_1.wav'\n",
    "x = tf.io.read_file(x)\n",
    "x, _ = tf.audio.decode_wav(x, desired_channels=1, desired_samples=16000, )\n",
    "x = tf.squeeze(x, axis=-1)\n",
    "output = loaded.signatures['serving_float'](x)\n",
    "print(output)\n",
    "# String.wav File:\n",
    "out = loaded(\"0c40e715_nohash_1.wav\")\n",
    "print(out)\n"
   ]
  },
  {
   "cell_type": "markdown",
   "metadata": {
    "collapsed": false
   },
   "source": [
    "<span style='font-size:xx-large'>Graph to TensorFlow Lite</span>\n"
   ]
  },
  {
   "cell_type": "code",
   "execution_count": 0,
   "metadata": {
    "collapsed": false
   },
   "outputs": [
   ],
   "source": [
    "import tensorflow as tf\n",
    "\n",
    "\n",
    "model = tf.saved_model.load(\"SavedModelGraph\")\n",
    "\n",
    "converter = tf.lite.TFLiteConverter.from_saved_model(\"SavedModelGraph\")\n",
    "converter.optimizations = [tf.lite.Optimize.DEFAULT]\n",
    "\n",
    "converter.target_spec.supported_ops = [\n",
    "  tf.lite.OpsSet.TFLITE_BUILTINS,\n",
    "  tf.lite.OpsSet.SELECT_TF_OPS\n",
    "]\n",
    "\n",
    "tflite_model = converter.convert()\n",
    "\n",
    "\n",
    "with open('saved_model_optimized.tflite', 'wb') as f:\n",
    "  f.write(tflite_model)\n",
    "\n",
    "interpreter = tf.lite.Interpreter(model_path=\"saved_model_optimized.tflite\")\n",
    "signatures = interpreter.get_signature_list()\n",
    "print(signatures)"
   ]
  },
  {
   "cell_type": "markdown",
   "metadata": {
    "collapsed": false
   },
   "source": [
    "<span style='font-size:xx-large'>Signature Serving & Inference Using Optimized TensorFlow Model</span>\n"
   ]
  },
  {
   "cell_type": "code",
   "execution_count": 0,
   "metadata": {
    "collapsed": false
   },
   "outputs": [
   ],
   "source": [
    "import tensorflow as tf\n",
    "\n",
    "# Load the TFLite model in TFLite Interpreter\n",
    "interpreter = tf.lite.Interpreter(model_path=\"cnn_optimized.tflite\")\n",
    "\n",
    "# Print the signatures from the converted model\n",
    "signatures = interpreter.get_signature_list()\n",
    "print('Signature:', signatures)\n",
    "\n",
    "# string and waveform are callable with input as arguments.\n",
    "string = interpreter.get_signature_runner('serving_default')\n",
    "waveform = interpreter.get_signature_runner('serving_float')\n",
    "\n",
    "\n",
    "x = '0c40e715_nohash_1.wav'\n",
    "x = tf.io.read_file(x)\n",
    "x, _ = tf.audio.decode_wav(x, desired_channels=1, desired_samples=16000,)\n",
    "x = tf.squeeze(x, axis=-1)\n",
    "\n",
    "output = waveform(input=x)\n",
    "print('Predictions:', output)\n"
   ]
  }
 ],
 "metadata": {
  "kernelspec": {
   "argv": [
    "/usr/bin/python3",
    "-m",
    "ipykernel",
    "--HistoryManager.enabled=False",
    "--matplotlib=inline",
    "-c",
    "%config InlineBackend.figure_formats = set(['retina'])\nimport matplotlib; matplotlib.rcParams['figure.figsize'] = (12, 7)",
    "-f",
    "{connection_file}"
   ],
   "display_name": "Python 3 (system-wide)",
   "env": {
   },
   "language": "python",
   "metadata": {
    "cocalc": {
     "description": "Python 3 programming language",
     "priority": 100,
     "url": "https://www.python.org/"
    }
   },
   "name": "python3",
   "resource_dir": "/ext/jupyter/kernels/python3"
  },
  "language_info": {
   "codemirror_mode": {
    "name": "ipython",
    "version": 3
   },
   "file_extension": ".py",
   "mimetype": "text/x-python",
   "name": "python",
   "nbconvert_exporter": "python",
   "pygments_lexer": "ipython3",
   "version": "3.10.12"
  }
 },
 "nbformat": 4,
 "nbformat_minor": 4
}